{
 "cells": [
  {
   "cell_type": "markdown",
   "id": "ad1a5a2c-fedc-474e-8ced-49181671f18b",
   "metadata": {},
   "source": [
    "1.) Which function is used to open a file? What are the different modes of opening a file? Explain each mode\n",
    "of file opening."
   ]
  },
  {
   "cell_type": "markdown",
   "id": "e31ee9ab-e359-429f-84e0-3beefd12caab",
   "metadata": {},
   "source": [
    " the open() function is used to open a file. It returns a file object, which allows you to read from or write to the file."
   ]
  },
  {
   "cell_type": "code",
   "execution_count": 18,
   "id": "365d7d13-8e60-4b72-b686-43b52d12d68a",
   "metadata": {},
   "outputs": [
    {
     "name": "stdout",
     "output_type": "stream",
     "text": [
      "<_io.TextIOWrapper name='test.txt' mode='w' encoding='UTF-8'>\n"
     ]
    }
   ],
   "source": [
    "f=open(\"test.txt\", 'w')\n",
    "f.write(\"this is mine\")"
   ]
  },
  {
   "cell_type": "code",
   "execution_count": 15,
   "id": "1414ff68-5222-49e4-b590-40fb60d38460",
   "metadata": {},
   "outputs": [],
   "source": [
    "file = open(\"test.txt\", 'r')"
   ]
  },
  {
   "cell_type": "code",
   "execution_count": 16,
   "id": "ca498228-b07c-4058-8c17-7e8b05f5f4ad",
   "metadata": {},
   "outputs": [],
   "source": [
    "data=open(\"test.txt\",\"r\")"
   ]
  },
  {
   "cell_type": "code",
   "execution_count": 17,
   "id": "46bb369f-529c-4ee9-a852-0106559224ab",
   "metadata": {},
   "outputs": [
    {
     "data": {
      "text/plain": [
       "'this is mine'"
      ]
     },
     "execution_count": 17,
     "metadata": {},
     "output_type": "execute_result"
    }
   ],
   "source": [
    "data.read()"
   ]
  },
  {
   "cell_type": "markdown",
   "id": "3ffdfa36-27fc-4ded-a800-ce9fffcb5d0b",
   "metadata": {},
   "source": [
    "The different modes of file opening in Python are:\n",
    "\n",
    "r: Read mode (default). This mode allows you to read from an existing file. If the file doesn't exist, an error will be raised.\n",
    "\n",
    "w: Write mode. This mode allows you to write to a file. If the file already exists, its contents will be truncated. If the file doesn't exist, a new file will be created.\n",
    "\n",
    "a: Append mode. This mode allows you to append data to an existing file. If the file doesn't exist, a new file will be created.\n",
    "\n",
    "x: Exclusive creation mode. This mode allows you to create a new file, but it will raise an error if the file already exists.\n",
    "\n",
    "b: Binary mode. This mode is used for working with binary data, such as images or audio files.\n",
    "\n",
    "t: Text mode (default). This mode is used for working with text files.\n",
    "\n",
    "+: Update mode. This mode allows you to read from and write to a file simultaneously."
   ]
  },
  {
   "cell_type": "code",
   "execution_count": null,
   "id": "1a059900-b60b-4e3d-858c-08a216e2a249",
   "metadata": {},
   "outputs": [],
   "source": []
  },
  {
   "cell_type": "markdown",
   "id": "df79b8d9-b5da-4058-87b2-2f321d5d0c2c",
   "metadata": {},
   "source": [
    "2.) Why close() function is used? Why is it important to close a file?"
   ]
  },
  {
   "cell_type": "markdown",
   "id": "641b3ed0-bb23-4b63-bedc-c280260aba63",
   "metadata": {},
   "source": [
    "In Python it's important to close a file after you've finished working with it using the close() method or by using the with statement. The close() method releases any system resources that are associated with the file and ensures that any pending data is written to the file before it's closed. Here are a few reasons why closing a file is important:\n",
    "\n",
    "Free up system resources: When you open a file, the operating system allocates resources to keep track of the file and the data associated with it. If you don't close the file when you're done with it, these resources will remain allocated, which can cause problems if you're working with a large number of files or if your program runs for a long time.\n",
    "\n",
    "Ensure data integrity: When you write data to a file, it's usually buffered in memory until there's enough data to write to disk. If you don't close the file, there's a chance that some of this buffered data might not get written to disk. This can cause data corruption or loss if the program terminates unexpectedly.\n",
    "\n",
    "Allow other programs to access the file: If you don't close a file after you're done with it, other programs might not be able to access it. This can cause problems if you're working in a multi-user environment or if your program needs to share files with other programs.\n",
    "\n",
    "In summary, closing a file is important to release system resources, ensure data integrity, and allow other programs to access the file. It's good programming practice to always close a file when you're done working with it, and to use the with statement when possible to ensure that files are always closed properly."
   ]
  },
  {
   "cell_type": "code",
   "execution_count": null,
   "id": "1dc254b9-3935-4954-bc7e-522521ae1db6",
   "metadata": {},
   "outputs": [],
   "source": []
  },
  {
   "cell_type": "markdown",
   "id": "b55874cb-9e9a-4d4d-9978-a40da3ad7e32",
   "metadata": {},
   "source": [
    "3.) Write a python program to create a text file. Write ‘I want to become a Data Scientist’ in that file. Then\n",
    "close the file. Open this file and read the content of the file."
   ]
  },
  {
   "cell_type": "code",
   "execution_count": 6,
   "id": "6a10b846-37be-4ec8-8213-4e9d272c2ead",
   "metadata": {},
   "outputs": [
    {
     "name": "stdout",
     "output_type": "stream",
     "text": [
      "I want to become a Data Scientist\n"
     ]
    }
   ],
   "source": [
    "# Open the file for writing\n",
    "with open('data_scientist.txt', 'w') as file:\n",
    "    # Write the text to the file\n",
    "    file.write('I want to become a Data Scientist')\n",
    "\n",
    "# Open the file for reading\n",
    "with open('data_scientist.txt', 'r') as file:\n",
    "    # Read the contents of the file\n",
    "    file_contents = file.read()\n",
    "\n",
    "# Print the contents of the file\n",
    "print(file_contents)"
   ]
  },
  {
   "cell_type": "code",
   "execution_count": null,
   "id": "9f445d29-6656-4450-8a14-3593e954d547",
   "metadata": {},
   "outputs": [],
   "source": []
  },
  {
   "cell_type": "markdown",
   "id": "7cb29c4d-e9d5-4c06-8215-16cda594cd4b",
   "metadata": {},
   "source": [
    "4.) Explain the following with python code: read(), readline() and readlines()."
   ]
  },
  {
   "cell_type": "markdown",
   "id": "57ea2dd4-ff7b-48f1-a470-f98416482523",
   "metadata": {},
   "source": [
    "read() method:\n",
    "The read() method reads the entire contents of a file as a string. It takes an optional argument that specifies the maximum number of characters to read. If you don't specify this argument, the read() method will read the entire file."
   ]
  },
  {
   "cell_type": "code",
   "execution_count": 9,
   "id": "0390c9ea-919e-478b-94d8-964196a46b5c",
   "metadata": {},
   "outputs": [
    {
     "name": "stdout",
     "output_type": "stream",
     "text": [
      "this is mine\n"
     ]
    }
   ],
   "source": [
    "# Open the file for reading\n",
    "with open('test.txt', 'r') as file:\n",
    "    # Read the entire file\n",
    "    file_contents = file.read()\n",
    "print(file_contents)"
   ]
  },
  {
   "cell_type": "markdown",
   "id": "86272dc0-29d3-45cb-8eef-d5f220a6cfa4",
   "metadata": {},
   "source": [
    "readline() method:\n",
    "The readline() method reads a single line from a file. It moves the file pointer to the next line after the line that was read. If you call readline() again, it will read the next line in the file, and so on."
   ]
  },
  {
   "cell_type": "code",
   "execution_count": 19,
   "id": "1be5f5ec-6de2-4247-bddf-036e2e3ab5b1",
   "metadata": {},
   "outputs": [
    {
     "name": "stdout",
     "output_type": "stream",
     "text": [
      "this is mine\n",
      "\n"
     ]
    }
   ],
   "source": [
    "# Open the file for reading\n",
    "with open('test.txt', 'r') as file:\n",
    "    # Read the first line of the file\n",
    "    line1 = file.readline()\n",
    "\n",
    "    # Read the second line of the file\n",
    "    line2 = file.readline()\n",
    "\n",
    "print(line1)\n",
    "print(line2)"
   ]
  },
  {
   "cell_type": "code",
   "execution_count": 20,
   "id": "11b186bb-1cbc-4cc8-becc-46a1153fb775",
   "metadata": {},
   "outputs": [
    {
     "name": "stdout",
     "output_type": "stream",
     "text": [
      "this is mine\n"
     ]
    }
   ],
   "source": [
    "# Open the file for reading\n",
    "with open('test.txt', 'r') as file:\n",
    "    # Read the first line of the file\n",
    "    line1 = file.readline()\n",
    "\n",
    "print(line1)"
   ]
  },
  {
   "cell_type": "markdown",
   "id": "8fa87095-b645-4215-bbfc-a134c1fb0f85",
   "metadata": {},
   "source": [
    "readlines() method:\n",
    "The readlines() method reads all the lines of a file and returns them as a list of strings. Each string in the list corresponds to a single line in the file."
   ]
  },
  {
   "cell_type": "code",
   "execution_count": 21,
   "id": "4a8a66c0-bb9d-4b67-9521-77f027fa5569",
   "metadata": {},
   "outputs": [
    {
     "name": "stdout",
     "output_type": "stream",
     "text": [
      "this is mine\n"
     ]
    }
   ],
   "source": [
    "# Open the file for reading\n",
    "with open('test.txt', 'r') as file:\n",
    "    # Read all the lines of the file\n",
    "    lines = file.readlines()\n",
    "\n",
    "for line in lines:\n",
    "    print(line)"
   ]
  },
  {
   "cell_type": "markdown",
   "id": "c03c58b7-1f5f-43bb-9471-0b0b7360d9ff",
   "metadata": {},
   "source": [
    "5.) Explain why with statement is used with open(). What is the advantage of using with statement and\n",
    "open() together?"
   ]
  },
  {
   "cell_type": "markdown",
   "id": "7f8f930f-5ecb-48be-a904-1fac723f5891",
   "metadata": {},
   "source": [
    "The with statement is used with open() to ensure that the file is properly closed after it has been used. The with statement is a context manager that takes care of closing the file automatically, even if an error occurs while the file is being used.\n",
    "\n",
    "Using with statement and open() together has several advantages:\n",
    "\n",
    "It's safer: The with statement takes care of closing the file automatically, which reduces the risk of accidentally leaving the file open and causing data corruption or other issues.\n",
    "\n",
    "It's cleaner: The with statement makes the code cleaner and easier to read by eliminating the need to explicitly close the file.\n",
    "\n",
    "It's more efficient: The with statement is more efficient than manually closing the file because it ensures that the file is closed as soon as it's no longer needed."
   ]
  },
  {
   "cell_type": "code",
   "execution_count": 24,
   "id": "fe5f7996-3986-48b4-a11e-2086e06d6a9d",
   "metadata": {},
   "outputs": [],
   "source": [
    "with open('test.txt', 'r') as file:\n",
    "    # Do something with the file\n",
    "    file_contents = file.read()"
   ]
  },
  {
   "cell_type": "markdown",
   "id": "1b110283-cc58-44dd-bcad-341804140c08",
   "metadata": {},
   "source": [
    "6.) Explain the write() and writelines() functions. Give a suitable example."
   ]
  },
  {
   "cell_type": "markdown",
   "id": "3842e3e8-a998-4c28-a301-73e7e1343dc5",
   "metadata": {},
   "source": [
    "write() method:\n",
    "The write() method writes a string to a file. If the file already exists, it will overwrite the existing contents. If the file does not exist, it will create a new file."
   ]
  },
  {
   "cell_type": "code",
   "execution_count": 25,
   "id": "6dccd514-8bd0-4019-8d6b-71d240d48701",
   "metadata": {},
   "outputs": [
    {
     "name": "stdout",
     "output_type": "stream",
     "text": [
      "Hello, world!\n"
     ]
    }
   ],
   "source": [
    "# Open the file for writing\n",
    "with open('test.txt', 'w') as file:\n",
    "    # Write a string to the file\n",
    "    file.write('Hello, world!')\n",
    "\n",
    "# Open the file for reading\n",
    "with open('test.txt', 'r') as file:\n",
    "    # Read the entire file\n",
    "    file_contents = file.read()\n",
    "\n",
    "# Print the contents of the file\n",
    "print(file_contents)"
   ]
  },
  {
   "cell_type": "markdown",
   "id": "d757ddde-8c2a-4086-b37d-e2433de1fcb0",
   "metadata": {},
   "source": [
    "writelines() method:\n",
    "The writelines() method writes a list of strings to a file. Each string in the list corresponds to a single line in the file."
   ]
  },
  {
   "cell_type": "code",
   "execution_count": 27,
   "id": "965f4334-06cc-4554-b84c-104dbaa73571",
   "metadata": {},
   "outputs": [
    {
     "name": "stdout",
     "output_type": "stream",
     "text": [
      "Hello\n",
      "world\n",
      "\n"
     ]
    }
   ],
   "source": [
    "with open('example.txt', 'w') as file:\n",
    "    # Write a list of strings to the file\n",
    "    lines = ['Hello\\n', 'world\\n']\n",
    "    file.writelines(lines)\n",
    "\n",
    "# Open the file for reading\n",
    "with open('example.txt', 'r') as file:\n",
    "    # Read the entire file\n",
    "    file_contents = file.read()\n",
    "\n",
    "# Print the contents of the file\n",
    "print(file_contents)"
   ]
  },
  {
   "cell_type": "markdown",
   "id": "373cdb9d-25e3-4bd2-8364-e4266505af85",
   "metadata": {},
   "source": [
    "writeline() method:\n",
    "The writeline() method writes a single string followed by a newline character (\\n) to a file"
   ]
  },
  {
   "cell_type": "code",
   "execution_count": 29,
   "id": "e0d84d11-dab3-4eba-885c-1493e4b431dd",
   "metadata": {},
   "outputs": [
    {
     "ename": "AttributeError",
     "evalue": "'_io.TextIOWrapper' object has no attribute 'writeline'",
     "output_type": "error",
     "traceback": [
      "\u001b[0;31m---------------------------------------------------------------------------\u001b[0m",
      "\u001b[0;31mAttributeError\u001b[0m                            Traceback (most recent call last)",
      "Cell \u001b[0;32mIn[29], line 3\u001b[0m\n\u001b[1;32m      1\u001b[0m \u001b[38;5;28;01mwith\u001b[39;00m \u001b[38;5;28mopen\u001b[39m(\u001b[38;5;124m'\u001b[39m\u001b[38;5;124mtest.txt\u001b[39m\u001b[38;5;124m'\u001b[39m, \u001b[38;5;124m'\u001b[39m\u001b[38;5;124mw\u001b[39m\u001b[38;5;124m'\u001b[39m) \u001b[38;5;28;01mas\u001b[39;00m file:\n\u001b[1;32m      2\u001b[0m     \u001b[38;5;66;03m# Write a string to the file followed by a newline character\u001b[39;00m\n\u001b[0;32m----> 3\u001b[0m     \u001b[43mfile\u001b[49m\u001b[38;5;241;43m.\u001b[39;49m\u001b[43mwriteline\u001b[49m(\u001b[38;5;124m'\u001b[39m\u001b[38;5;124mHello\u001b[39m\u001b[38;5;124m'\u001b[39m)\n\u001b[1;32m      4\u001b[0m     file\u001b[38;5;241m.\u001b[39mwriteline(\u001b[38;5;124m'\u001b[39m\u001b[38;5;124mworld\u001b[39m\u001b[38;5;124m'\u001b[39m)\n\u001b[1;32m      6\u001b[0m \u001b[38;5;66;03m# Open the file for reading\u001b[39;00m\n",
      "\u001b[0;31mAttributeError\u001b[0m: '_io.TextIOWrapper' object has no attribute 'writeline'"
     ]
    }
   ],
   "source": [
    "with open('test.txt', 'w') as file:\n",
    "    # Write a string to the file followed by a newline character\n",
    "    file.writeline('Hello')\n",
    "    file.writeline('world')\n",
    "\n",
    "# Open the file for reading\n",
    "with open('test.txt', 'r') as file:\n",
    "    # Read the entire file\n",
    "    file_contents = file.read()\n",
    "\n",
    "print(file_contents)"
   ]
  },
  {
   "cell_type": "code",
   "execution_count": null,
   "id": "5fb89503-f55f-44d2-bfd3-d062f9903e8a",
   "metadata": {},
   "outputs": [],
   "source": [
    "\n",
    "\n"
   ]
  },
  {
   "cell_type": "code",
   "execution_count": null,
   "id": "a67af470-313b-44c8-a19e-3046f82266af",
   "metadata": {},
   "outputs": [],
   "source": []
  }
 ],
 "metadata": {
  "kernelspec": {
   "display_name": "Python 3 (ipykernel)",
   "language": "python",
   "name": "python3"
  },
  "language_info": {
   "codemirror_mode": {
    "name": "ipython",
    "version": 3
   },
   "file_extension": ".py",
   "mimetype": "text/x-python",
   "name": "python",
   "nbconvert_exporter": "python",
   "pygments_lexer": "ipython3",
   "version": "3.10.8"
  }
 },
 "nbformat": 4,
 "nbformat_minor": 5
}
